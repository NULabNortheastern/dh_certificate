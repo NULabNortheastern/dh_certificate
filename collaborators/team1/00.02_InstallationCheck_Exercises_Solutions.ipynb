{
 "cells": [
  {
   "cell_type": "markdown",
   "metadata": {},
   "source": [
    "## Exercises for Py4E, Chapter 1\n",
    "\n",
    "Due by 7PM, Tuesday January 23  \n",
    "Note: There are a total of three exercises to complete, and exercise 2 has four parts.  \n",
    "First, a little Python humor\n",
    "\n",
    "\n",
    "\n",
    "\n",
    "![alt text](https://imgs.xkcd.com/comics/python.png \"Rocky Mountain Cabin\")"
   ]
  },
  {
   "cell_type": "markdown",
   "metadata": {},
   "source": [
    "Exercise 1: In your own words, what is a program?\n",
    "\n",
    "A program is a series of instructions for a computer to follow, written in a specific programming language, such as Python or Julia."
   ]
  },
  {
   "cell_type": "markdown",
   "metadata": {},
   "source": [
    "Exercise 2: Run the following code (it should produce an error):"
   ]
  },
  {
   "cell_type": "code",
   "execution_count": 1,
   "metadata": {},
   "outputs": [
    {
     "ename": "NameError",
     "evalue": "name 'primt' is not defined",
     "output_type": "error",
     "traceback": [
      "\u001b[0;31m---------------------------------------------------------------------------\u001b[0m",
      "\u001b[0;31mNameError\u001b[0m                                 Traceback (most recent call last)",
      "\u001b[0;32m<ipython-input-1-4cabdc5d8b48>\u001b[0m in \u001b[0;36m<module>\u001b[0;34m()\u001b[0m\n\u001b[0;32m----> 1\u001b[0;31m \u001b[0mprimt\u001b[0m\u001b[0;34m(\u001b[0m\u001b[0;34m'Hello world!'\u001b[0m\u001b[0;34m)\u001b[0m\u001b[0;34m\u001b[0m\u001b[0m\n\u001b[0m",
      "\u001b[0;31mNameError\u001b[0m: name 'primt' is not defined"
     ]
    }
   ],
   "source": [
    "primt('Hello world!')"
   ]
  },
  {
   "cell_type": "markdown",
   "metadata": {},
   "source": [
    "Exercise 2.1: What is wrong with the above code?\n",
    "\n",
    "The command `primt` is misspelled, it should be `print`."
   ]
  },
  {
   "cell_type": "markdown",
   "metadata": {},
   "source": [
    "Exercise 2.2: Modity the below code so that it runs without an error:"
   ]
  },
  {
   "cell_type": "code",
   "execution_count": 3,
   "metadata": {},
   "outputs": [
    {
     "name": "stdout",
     "output_type": "stream",
     "text": [
      "Hello world!\n"
     ]
    }
   ],
   "source": [
    "print('Hello world!')"
   ]
  },
  {
   "cell_type": "markdown",
   "metadata": {},
   "source": [
    "Exercise 2.3: What is the input, or the data, in the above program?  \n",
    "\n",
    "The input is the string `Hello world!`, typed in by the user using their keyboard."
   ]
  },
  {
   "cell_type": "markdown",
   "metadata": {},
   "source": [
    "Exercise 2.4: What is the output from the above program?\n",
    "\n",
    "The output: display the string `Hello world!` on your computer screen."
   ]
  },
  {
   "cell_type": "markdown",
   "metadata": {},
   "source": [
    "Exercise 3: Imagine this notebook is in your `scripts` folder (in fact it should be!). I instruct you to download a file called `sample_text.txt` and put it in the data folder. In this cell (in Markdown), what would you type to indicate to Python how to find that file (think about what we learned about relative file structures and how to traverse them in the `InstallationCheck` notebook.\n",
    "\n",
    "Answer:\n",
    "\n",
    "'../data/sample_text.txt'"
   ]
  }
 ],
 "metadata": {
  "kernelspec": {
   "display_name": "Python 3",
   "language": "python",
   "name": "python3"
  },
  "language_info": {
   "codemirror_mode": {
    "name": "ipython",
    "version": 3
   },
   "file_extension": ".py",
   "mimetype": "text/x-python",
   "name": "python",
   "nbconvert_exporter": "python",
   "pygments_lexer": "ipython3",
   "version": "3.6.3"
  }
 },
 "nbformat": 4,
 "nbformat_minor": 2
}
